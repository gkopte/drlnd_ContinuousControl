{
 "cells": [
  {
   "attachments": {},
   "cell_type": "markdown",
   "metadata": {},
   "source": [
    "# Reacher\n",
    "\n",
    "---\n",
    "\n",
    "In this notebook, you will find a solution for the second project of the [Deep Reinforcement Learning Nanodegree](https://www.udacity.com/course/deep-reinforcement-learning-nanodegree--nd893). This project involves the use of the Unity ML-Agents environment called Reacher. In this notebook, we are solving the second version of the environment, which includes 20 agents.\n",
    "\n",
    "In this environment, a double-jointed arm can move to target locations. A reward of +0.1 is provided for each step that the agent's hand is in the goal location. Thus, the goal of your agent is to maintain its position at the target location for as many time steps as possible.\n",
    "\n",
    "The environment is considered solved, when the average (over 100 episodes) of those average scores is at least +30.\n",
    "\n",
    "\n",
    "### 1. Start the Environment\n",
    "\n",
    "Run the following code cell to install a few packages. This may take a few minutes to complete.\n"
   ]
  },
  {
   "cell_type": "code",
   "execution_count": 1,
   "metadata": {},
   "outputs": [],
   "source": [
    "# !pip -q install ./python"
   ]
  },
  {
   "attachments": {},
   "cell_type": "markdown",
   "metadata": {},
   "source": [
    "Now you need to choose how you want to run this notebook:\n",
    "\n",
    "- Set 'run_mode' to \"train\" if you want to train a new agent from scratch.\n",
    "- Alternatively, set 'run_mode' to \"test\" if you want to evaluate a pre-trained model.\n",
    "\n",
    "If you prefer not to visualize the agent during the training and testing process, change 'no_rendering' to True."
   ]
  },
  {
   "cell_type": "code",
   "execution_count": 2,
   "metadata": {},
   "outputs": [],
   "source": [
    "# Select the 'train' to train an agent from scratch or 'test' to test a saved agent.\n",
    "run_mode = 'train'  "
   ]
  },
  {
   "attachments": {},
   "cell_type": "markdown",
   "metadata": {},
   "source": [
    "Importing some necessary packages."
   ]
  },
  {
   "cell_type": "code",
   "execution_count": 3,
   "metadata": {},
   "outputs": [],
   "source": [
    "from unityagents import UnityEnvironment\n",
    "import numpy as np\n",
    "from collections import deque\n",
    "import random\n",
    "import torch\n",
    "import numpy as np\n",
    "\n",
    "\n",
    "import matplotlib.pyplot as plt\n",
    "%matplotlib inline"
   ]
  },
  {
   "attachments": {},
   "cell_type": "markdown",
   "metadata": {},
   "source": [
    "Next, we're going to start the environment! **_Before you run the code cell below_**, ensure the `file_name` parameter matches the location of the Unity environment that you downloaded.\n",
    "\n",
    "- **Mac**: `\\\"path/to/Reacher.app\\\"`\\n\",\n",
    "- **Windows** (x86): `\\\"path/to/Reacher_Windows_x86/Reacher.exe\\\"`\\n\",\n",
    "- **Windows** (x86_64): `\\\"path/to/Reacher_Windows_x86_64/Reacher.exe\\\"`\\n\",\n",
    "- **Linux** (x86): `\\\"path/to/Reacher_Linux/Reacher.x86\\\"`\\n\",\n",
    "- **Linux** (x86_64): `\\\"path/to/Reacher_Linux/Reacher.x86_64\\\"`\\n\",\n",
    "- **Linux** (x86, headless): `\\\"path/to/Reacher_Linux_NoVis/Reacher.x86\\\"`\\n\",\n",
    "- **Linux** (x86_64, headless): `\\\"path/to/Reacher_Linux_NoVis/Reacher.x86_64\\\"`\\n\",\n",
    "\n",
    "Since I'm running this on Windows 10 64-bit, and the environment is located in \"./Reacher_Windows_x86_64/Reacher.exe\", I'm going to set my environment like so:\n",
    "\n",
    "```python\n",
    "env = UnityEnvironment(file_name=\"./Reacher_Windows_x86_64/Reacher.exe\")\n"
   ]
  },
  {
   "cell_type": "code",
   "execution_count": 4,
   "metadata": {},
   "outputs": [],
   "source": [
    "import gym\n",
    "from gym import spaces\n",
    "import numpy as np\n",
    "\n",
    "class RastriginEnv(gym.Env):\n",
    "    def __init__(self, dim=1, num_agents=1, A=10, lower_bound=-5.12, upper_bound=5.12, action_bound=0.1, max_steps=1000):\n",
    "        super(RastriginEnv, self).__init__()\n",
    "\n",
    "        # Define the action and observation space\n",
    "        self.A = A\n",
    "        self.dim = dim\n",
    "        self.num_agents = num_agents\n",
    "        self.action_bound = action_bound\n",
    "        self.action_space = spaces.Box(low=-1, high=1, shape=(num_agents, dim), dtype=np.float32)\n",
    "        self.observation_space = spaces.Box(low=lower_bound, high=upper_bound, shape=(num_agents, dim), dtype=np.float32)\n",
    "        self.max_steps = max_steps\n",
    "\n",
    "        # Initialize state\n",
    "        self.state = np.zeros((num_agents, dim))\n",
    "        self.step_counter = 0\n",
    "\n",
    "    def rastrigin(self, x):\n",
    "        return self.A*self.dim + np.sum(x**2 - self.A*np.cos(2*np.pi*x), axis=-1)\n",
    "\n",
    "    def step(self, action):\n",
    "        scaled_action = action * self.action_bound\n",
    "        self.state = np.clip(self.state + scaled_action, self.observation_space.low, self.observation_space.high)\n",
    "        reward = -self.rastrigin(self.state)\n",
    "        self.step_counter += 1\n",
    "        done = self.step_counter >= self.max_steps\n",
    "        return self.state, reward, done, {}\n",
    "\n",
    "    def reset(self):\n",
    "        self.state = self.observation_space.sample()\n",
    "        self.step_counter = 0\n",
    "        return self.state\n",
    "\n",
    "    def render(self, mode='human'):\n",
    "        pass  # We won't implement a visual render for this task\n"
   ]
  },
  {
   "cell_type": "code",
   "execution_count": 5,
   "metadata": {},
   "outputs": [
    {
     "name": "stdout",
     "output_type": "stream",
     "text": [
      "Initial observation: [[-1.8398514  -0.92133987  0.12140139  1.403267   -2.0415401 ]\n",
      " [-0.01456831 -2.1628232  -2.019801   -1.5671711   0.48864836]\n",
      " [-1.6684493  -2.818995   -1.0669568  -1.5613036  -2.5588317 ]\n",
      " [ 2.49198    -2.594826   -1.0294344   1.4365749  -1.2727402 ]\n",
      " [ 0.43790284 -0.56863374 -0.85580206  0.128077    2.23805   ]\n",
      " [ 2.0975633   1.0148455   2.5744777   1.4767663   1.6508489 ]\n",
      " [-1.4667577   1.5167792   0.3381715   0.095038   -1.4715967 ]\n",
      " [ 0.47181317 -2.9183812   1.8668735   0.69830495  0.54932064]\n",
      " [-1.9897789   0.17949325  0.9706049  -1.1805102  -1.9408485 ]\n",
      " [ 0.52977455 -2.8028681  -0.06323256 -0.4877141   1.5689406 ]\n",
      " [ 0.86965364  2.770099   -2.769549   -0.20977056  2.114638  ]\n",
      " [-1.4119538   1.89087    -0.66991854 -2.4841287  -0.89261997]\n",
      " [-0.15749717  0.8753817  -0.97738516 -0.29472995 -2.8710322 ]\n",
      " [-0.8818643   1.6479303  -2.7280545  -2.7971487   0.561728  ]\n",
      " [ 2.8042388  -2.765727    2.6656823   1.3633544  -0.89852905]\n",
      " [ 2.6841755   2.4390404   0.7000662  -1.2742691   0.4976381 ]\n",
      " [ 0.17017387 -2.1009676  -2.7926538   0.5987032  -0.5059353 ]\n",
      " [ 1.8140538  -2.541556   -2.2840803  -0.8056567  -0.87473136]\n",
      " [ 0.96045685 -0.7833466  -1.9054602   2.0782294  -0.00954152]\n",
      " [-2.3582926  -0.7274543  -1.8580743   0.3517503   0.6810987 ]]\n",
      "Next observation: [[-1.4730723  -1.0981755  -0.30818087  1.8578916  -2.0810199 ]\n",
      " [ 0.23829363 -2.390282   -1.9055128  -1.3078369   0.78179955]\n",
      " [-1.847264   -3.         -0.8559088  -1.5736027  -2.3063307 ]\n",
      " [ 2.2091117  -2.1411695  -1.44412     1.0261679  -1.3870137 ]\n",
      " [ 0.06878507 -0.09955999 -0.9545313  -0.09439851  2.1450596 ]\n",
      " [ 2.0502498   1.3677204   2.714374    1.0433288   1.8205929 ]\n",
      " [-1.5892906   1.9506707   0.5326724  -0.0935339  -1.4042492 ]\n",
      " [ 0.7601844  -3.          2.284094    0.27306542  0.3744198 ]\n",
      " [-1.9113141   0.5702448   0.5988339  -0.80114436 -2.1018758 ]\n",
      " [ 0.21131301 -3.         -0.4441742  -0.08308336  1.3108937 ]\n",
      " [ 1.2459667   2.6370609  -2.4855106   0.2356947   1.9928464 ]\n",
      " [-1.6798635   1.9330709  -1.154562   -2.8944871  -0.42921752]\n",
      " [-0.6166192   1.3062284  -1.4279492  -0.12076959 -2.9599466 ]\n",
      " [-1.2041507   1.4115441  -2.745186   -3.          0.32937336]\n",
      " [ 2.3167264  -2.8069284   2.4132898   1.5806507  -0.5726758 ]\n",
      " [ 2.447285    2.073941    0.3169434  -1.2788619   0.0902406 ]\n",
      " [-0.1672795  -2.1459298  -2.4828777   0.24331024 -0.5120469 ]\n",
      " [ 1.824354   -2.144184   -2.459746   -0.40245792 -1.0793313 ]\n",
      " [ 0.52406454 -1.0207031  -1.4553158   1.9798683  -0.4722993 ]\n",
      " [-1.9956706  -0.6459348  -1.5737593   0.37240574  1.0154191 ]]\n",
      "Reward: [-51.52462  -61.985306 -61.443844 -62.777706 -14.336288 -53.376366\n",
      " -67.25093  -64.98553  -56.905304 -53.01678  -74.04437  -57.092712\n",
      " -65.84586  -70.826126 -98.737045 -60.002514 -69.563    -63.70846\n",
      " -67.08503  -60.079613]\n"
     ]
    }
   ],
   "source": [
    "env = RastriginEnv(dim=5, num_agents=20, lower_bound=-3, upper_bound=3, action_bound=0.5)\n",
    "obs = env.reset()\n",
    "print(\"Initial observation:\", obs)\n",
    "action = env.action_space.sample()\n",
    "obs, reward, done, info = env.step(action)\n",
    "print(\"Next observation:\", obs)\n",
    "print(\"Reward:\", reward)\n"
   ]
  },
  {
   "cell_type": "code",
   "execution_count": 6,
   "metadata": {},
   "outputs": [],
   "source": [
    "# env = UnityEnvironment(file_name='/data/Reacher_Linux_NoVis/Reacher.x86_64') "
   ]
  },
  {
   "attachments": {},
   "cell_type": "markdown",
   "metadata": {},
   "source": [
    "Environments contain **_brains_** which are responsible for deciding the actions of their associated agents. Here we check for the first brain available, and set it as the default brain we will be controlling from Python."
   ]
  },
  {
   "cell_type": "code",
   "execution_count": 7,
   "metadata": {},
   "outputs": [],
   "source": [
    "# # get the default brain\n",
    "# brain_name = env.brain_names[0]\n",
    "# brain = env.brains[brain_name]"
   ]
  },
  {
   "attachments": {},
   "cell_type": "markdown",
   "metadata": {},
   "source": [
    "### 2. Examine the State and Action Spaces\n",
    "\n",
    "The observation space consists of 33 variables corresponding to position, rotation, velocity, and angular velocities of the arm. Each action is a vector with four numbers, corresponding to torque applicable to two joints. Every entry in the action vector should be a number between -1 and 1."
   ]
  },
  {
   "cell_type": "code",
   "execution_count": 8,
   "metadata": {},
   "outputs": [
    {
     "name": "stdout",
     "output_type": "stream",
     "text": [
      "Number of agents: 20\n",
      "Size of each action: 5\n",
      "There are 20 agents. Each observes a state with length: 5\n",
      "The state for the first agent looks like: [ 2.7110703  2.458031   2.2814033  2.891583  -1.2251228]\n"
     ]
    }
   ],
   "source": [
    "# reset the environment\n",
    "states = env.reset()\n",
    "\n",
    "# number of agents\n",
    "num_agents = env.num_agents\n",
    "print('Number of agents:', num_agents)\n",
    "\n",
    "# size of each action\n",
    "# action = env.action_space.sample()\n",
    "# action_size = brain.vector_action_space_size\n",
    "action_size = len(env.action_space.sample()[0])\n",
    "print('Size of each action:', action_size)\n",
    "\n",
    "# examine the state space \n",
    "state_size = states.shape[1]\n",
    "print('There are {} agents. Each observes a state with length: {}'.format(states.shape[0], state_size))\n",
    "print('The state for the first agent looks like:', states[0])"
   ]
  },
  {
   "cell_type": "code",
   "execution_count": 9,
   "metadata": {},
   "outputs": [
    {
     "name": "stdout",
     "output_type": "stream",
     "text": [
      "(20, 5)\n",
      "<class 'numpy.ndarray'>\n"
     ]
    }
   ],
   "source": [
    "print(states.shape)\n",
    "print(type(states))\n"
   ]
  },
  {
   "attachments": {},
   "cell_type": "markdown",
   "metadata": {},
   "source": [
    "### 4. Creating a Smart Agent\n",
    "\n",
    "In this section, we will instantiate a DDPG agent defined in `ddpg_agent.py` and `model.py`."
   ]
  },
  {
   "cell_type": "code",
   "execution_count": 10,
   "metadata": {},
   "outputs": [],
   "source": [
    "from ddpg_agent_curiosity import Agent\n",
    "agent = Agent(state_size=state_size, action_size=action_size, random_seed=37)"
   ]
  },
  {
   "attachments": {},
   "cell_type": "markdown",
   "metadata": {},
   "source": [
    "### 5. Training Loop\n",
    "\n",
    "In this step, we will train our agent using the 'ddpg' function. The training will run for 'n_episodes' or until the agent achieves an average score of 30 or higher over a span of 100 episodes. After training, a graph is generated to provide a visual representation of the agent's performance across the episodes, illustrating how the score has evolved over the course of training.\n",
    "\n",
    "\n"
   ]
  },
  {
   "cell_type": "code",
   "execution_count": 11,
   "metadata": {},
   "outputs": [
    {
     "ename": "KeyboardInterrupt",
     "evalue": "",
     "output_type": "error",
     "traceback": [
      "\u001b[1;31m---------------------------------------------------------------------------\u001b[0m",
      "\u001b[1;31mKeyboardInterrupt\u001b[0m                         Traceback (most recent call last)",
      "\u001b[1;32m<ipython-input-11-3270bd2337c3>\u001b[0m in \u001b[0;36m<module>\u001b[1;34m\u001b[0m\n\u001b[0;32m     58\u001b[0m         \u001b[1;32mreturn\u001b[0m \u001b[0mscores\u001b[0m\u001b[1;33m\u001b[0m\u001b[1;33m\u001b[0m\u001b[0m\n\u001b[0;32m     59\u001b[0m \u001b[1;33m\u001b[0m\u001b[0m\n\u001b[1;32m---> 60\u001b[1;33m     \u001b[0mscores\u001b[0m \u001b[1;33m=\u001b[0m \u001b[0mddpg\u001b[0m\u001b[1;33m(\u001b[0m\u001b[1;33m)\u001b[0m\u001b[1;33m\u001b[0m\u001b[1;33m\u001b[0m\u001b[0m\n\u001b[0m\u001b[0;32m     61\u001b[0m \u001b[1;33m\u001b[0m\u001b[0m\n\u001b[0;32m     62\u001b[0m     \u001b[1;31m# plot the scores\u001b[0m\u001b[1;33m\u001b[0m\u001b[1;33m\u001b[0m\u001b[1;33m\u001b[0m\u001b[0m\n",
      "\u001b[1;32m<ipython-input-11-3270bd2337c3>\u001b[0m in \u001b[0;36mddpg\u001b[1;34m(n_episodes, max_t, print_every)\u001b[0m\n\u001b[0;32m     36\u001b[0m \u001b[1;33m\u001b[0m\u001b[0m\n\u001b[0;32m     37\u001b[0m                 \u001b[1;32mfor\u001b[0m \u001b[0mi\u001b[0m \u001b[1;32min\u001b[0m \u001b[0mrange\u001b[0m\u001b[1;33m(\u001b[0m\u001b[0mnum_agents\u001b[0m\u001b[1;33m)\u001b[0m\u001b[1;33m:\u001b[0m  \u001b[1;31m# update the agent's state\u001b[0m\u001b[1;33m\u001b[0m\u001b[1;33m\u001b[0m\u001b[0m\n\u001b[1;32m---> 38\u001b[1;33m                     \u001b[0magent\u001b[0m\u001b[1;33m.\u001b[0m\u001b[0mstep\u001b[0m\u001b[1;33m(\u001b[0m\u001b[0mstates\u001b[0m\u001b[1;33m[\u001b[0m\u001b[0mi\u001b[0m\u001b[1;33m]\u001b[0m\u001b[1;33m,\u001b[0m \u001b[0mactions\u001b[0m\u001b[1;33m[\u001b[0m\u001b[0mi\u001b[0m\u001b[1;33m]\u001b[0m\u001b[1;33m,\u001b[0m \u001b[0mrewards\u001b[0m\u001b[1;33m[\u001b[0m\u001b[0mi\u001b[0m\u001b[1;33m]\u001b[0m\u001b[1;33m,\u001b[0m \u001b[0mnext_state\u001b[0m\u001b[1;33m[\u001b[0m\u001b[0mi\u001b[0m\u001b[1;33m]\u001b[0m\u001b[1;33m,\u001b[0m \u001b[0mdone\u001b[0m\u001b[1;33m,\u001b[0m \u001b[0mt\u001b[0m\u001b[1;33m)\u001b[0m\u001b[1;33m\u001b[0m\u001b[1;33m\u001b[0m\u001b[0m\n\u001b[0m\u001b[0;32m     39\u001b[0m \u001b[1;33m\u001b[0m\u001b[0m\n\u001b[0;32m     40\u001b[0m                 \u001b[0mstates\u001b[0m \u001b[1;33m=\u001b[0m \u001b[0mnext_state\u001b[0m\u001b[1;33m\u001b[0m\u001b[1;33m\u001b[0m\u001b[0m\n",
      "\u001b[1;32md:\\GitHub\\DDPG_2_Optimize\\ddpg_agent.py\u001b[0m in \u001b[0;36mstep\u001b[1;34m(self, state, action, reward, next_state, done, step)\u001b[0m\n\u001b[0;32m     66\u001b[0m         \u001b[1;32mif\u001b[0m \u001b[0mlen\u001b[0m\u001b[1;33m(\u001b[0m\u001b[0mself\u001b[0m\u001b[1;33m.\u001b[0m\u001b[0mmemory\u001b[0m\u001b[1;33m)\u001b[0m \u001b[1;33m>\u001b[0m \u001b[0mBATCH_SIZE\u001b[0m \u001b[1;32mand\u001b[0m \u001b[1;33m(\u001b[0m\u001b[0mstep\u001b[0m \u001b[1;33m%\u001b[0m \u001b[0mTRAIN_EVERY\u001b[0m\u001b[1;33m)\u001b[0m \u001b[1;33m==\u001b[0m \u001b[1;36m0\u001b[0m \u001b[1;33m:\u001b[0m\u001b[1;33m\u001b[0m\u001b[1;33m\u001b[0m\u001b[0m\n\u001b[0;32m     67\u001b[0m             \u001b[1;32mfor\u001b[0m \u001b[0m_\u001b[0m \u001b[1;32min\u001b[0m \u001b[0mrange\u001b[0m\u001b[1;33m(\u001b[0m\u001b[1;36m7\u001b[0m\u001b[1;33m)\u001b[0m \u001b[1;33m:\u001b[0m\u001b[1;33m\u001b[0m\u001b[1;33m\u001b[0m\u001b[0m\n\u001b[1;32m---> 68\u001b[1;33m                 \u001b[0mexperiences\u001b[0m \u001b[1;33m=\u001b[0m \u001b[0mself\u001b[0m\u001b[1;33m.\u001b[0m\u001b[0mmemory\u001b[0m\u001b[1;33m.\u001b[0m\u001b[0msample\u001b[0m\u001b[1;33m(\u001b[0m\u001b[1;33m)\u001b[0m\u001b[1;33m\u001b[0m\u001b[1;33m\u001b[0m\u001b[0m\n\u001b[0m\u001b[0;32m     69\u001b[0m                 \u001b[0mself\u001b[0m\u001b[1;33m.\u001b[0m\u001b[0mlearn\u001b[0m\u001b[1;33m(\u001b[0m\u001b[0mexperiences\u001b[0m\u001b[1;33m,\u001b[0m \u001b[0mGAMMA\u001b[0m\u001b[1;33m)\u001b[0m\u001b[1;33m\u001b[0m\u001b[1;33m\u001b[0m\u001b[0m\n\u001b[0;32m     70\u001b[0m \u001b[1;33m\u001b[0m\u001b[0m\n",
      "\u001b[1;32md:\\GitHub\\DDPG_2_Optimize\\ddpg_agent.py\u001b[0m in \u001b[0;36msample\u001b[1;34m(self)\u001b[0m\n\u001b[0;32m    185\u001b[0m         \u001b[0mexperiences\u001b[0m \u001b[1;33m=\u001b[0m \u001b[0mrandom\u001b[0m\u001b[1;33m.\u001b[0m\u001b[0msample\u001b[0m\u001b[1;33m(\u001b[0m\u001b[0mself\u001b[0m\u001b[1;33m.\u001b[0m\u001b[0mmemory\u001b[0m\u001b[1;33m,\u001b[0m \u001b[0mk\u001b[0m\u001b[1;33m=\u001b[0m\u001b[0mself\u001b[0m\u001b[1;33m.\u001b[0m\u001b[0mbatch_size\u001b[0m\u001b[1;33m)\u001b[0m\u001b[1;33m\u001b[0m\u001b[1;33m\u001b[0m\u001b[0m\n\u001b[0;32m    186\u001b[0m \u001b[1;33m\u001b[0m\u001b[0m\n\u001b[1;32m--> 187\u001b[1;33m         \u001b[0mstates\u001b[0m \u001b[1;33m=\u001b[0m \u001b[0mtorch\u001b[0m\u001b[1;33m.\u001b[0m\u001b[0mfrom_numpy\u001b[0m\u001b[1;33m(\u001b[0m\u001b[0mnp\u001b[0m\u001b[1;33m.\u001b[0m\u001b[0mvstack\u001b[0m\u001b[1;33m(\u001b[0m\u001b[1;33m[\u001b[0m\u001b[0me\u001b[0m\u001b[1;33m.\u001b[0m\u001b[0mstate\u001b[0m \u001b[1;32mfor\u001b[0m \u001b[0me\u001b[0m \u001b[1;32min\u001b[0m \u001b[0mexperiences\u001b[0m \u001b[1;32mif\u001b[0m \u001b[0me\u001b[0m \u001b[1;32mis\u001b[0m \u001b[1;32mnot\u001b[0m \u001b[1;32mNone\u001b[0m\u001b[1;33m]\u001b[0m\u001b[1;33m)\u001b[0m\u001b[1;33m)\u001b[0m\u001b[1;33m.\u001b[0m\u001b[0mfloat\u001b[0m\u001b[1;33m(\u001b[0m\u001b[1;33m)\u001b[0m\u001b[1;33m.\u001b[0m\u001b[0mto\u001b[0m\u001b[1;33m(\u001b[0m\u001b[0mdevice\u001b[0m\u001b[1;33m)\u001b[0m\u001b[1;33m\u001b[0m\u001b[1;33m\u001b[0m\u001b[0m\n\u001b[0m\u001b[0;32m    188\u001b[0m         \u001b[0mactions\u001b[0m \u001b[1;33m=\u001b[0m \u001b[0mtorch\u001b[0m\u001b[1;33m.\u001b[0m\u001b[0mfrom_numpy\u001b[0m\u001b[1;33m(\u001b[0m\u001b[0mnp\u001b[0m\u001b[1;33m.\u001b[0m\u001b[0mvstack\u001b[0m\u001b[1;33m(\u001b[0m\u001b[1;33m[\u001b[0m\u001b[0me\u001b[0m\u001b[1;33m.\u001b[0m\u001b[0maction\u001b[0m \u001b[1;32mfor\u001b[0m \u001b[0me\u001b[0m \u001b[1;32min\u001b[0m \u001b[0mexperiences\u001b[0m \u001b[1;32mif\u001b[0m \u001b[0me\u001b[0m \u001b[1;32mis\u001b[0m \u001b[1;32mnot\u001b[0m \u001b[1;32mNone\u001b[0m\u001b[1;33m]\u001b[0m\u001b[1;33m)\u001b[0m\u001b[1;33m)\u001b[0m\u001b[1;33m.\u001b[0m\u001b[0mfloat\u001b[0m\u001b[1;33m(\u001b[0m\u001b[1;33m)\u001b[0m\u001b[1;33m.\u001b[0m\u001b[0mto\u001b[0m\u001b[1;33m(\u001b[0m\u001b[0mdevice\u001b[0m\u001b[1;33m)\u001b[0m\u001b[1;33m\u001b[0m\u001b[1;33m\u001b[0m\u001b[0m\n\u001b[0;32m    189\u001b[0m         \u001b[0mrewards\u001b[0m \u001b[1;33m=\u001b[0m \u001b[0mtorch\u001b[0m\u001b[1;33m.\u001b[0m\u001b[0mfrom_numpy\u001b[0m\u001b[1;33m(\u001b[0m\u001b[0mnp\u001b[0m\u001b[1;33m.\u001b[0m\u001b[0mvstack\u001b[0m\u001b[1;33m(\u001b[0m\u001b[1;33m[\u001b[0m\u001b[0me\u001b[0m\u001b[1;33m.\u001b[0m\u001b[0mreward\u001b[0m \u001b[1;32mfor\u001b[0m \u001b[0me\u001b[0m \u001b[1;32min\u001b[0m \u001b[0mexperiences\u001b[0m \u001b[1;32mif\u001b[0m \u001b[0me\u001b[0m \u001b[1;32mis\u001b[0m \u001b[1;32mnot\u001b[0m \u001b[1;32mNone\u001b[0m\u001b[1;33m]\u001b[0m\u001b[1;33m)\u001b[0m\u001b[1;33m)\u001b[0m\u001b[1;33m.\u001b[0m\u001b[0mfloat\u001b[0m\u001b[1;33m(\u001b[0m\u001b[1;33m)\u001b[0m\u001b[1;33m.\u001b[0m\u001b[0mto\u001b[0m\u001b[1;33m(\u001b[0m\u001b[0mdevice\u001b[0m\u001b[1;33m)\u001b[0m\u001b[1;33m\u001b[0m\u001b[1;33m\u001b[0m\u001b[0m\n",
      "\u001b[1;32m<__array_function__ internals>\u001b[0m in \u001b[0;36mvstack\u001b[1;34m(*args, **kwargs)\u001b[0m\n",
      "\u001b[1;32md:\\ProgramData\\Anaconda3\\envs\\drlnd\\lib\\site-packages\\numpy\\core\\shape_base.py\u001b[0m in \u001b[0;36mvstack\u001b[1;34m(tup)\u001b[0m\n\u001b[0;32m    281\u001b[0m     \u001b[1;32mif\u001b[0m \u001b[1;32mnot\u001b[0m \u001b[0misinstance\u001b[0m\u001b[1;33m(\u001b[0m\u001b[0marrs\u001b[0m\u001b[1;33m,\u001b[0m \u001b[0mlist\u001b[0m\u001b[1;33m)\u001b[0m\u001b[1;33m:\u001b[0m\u001b[1;33m\u001b[0m\u001b[1;33m\u001b[0m\u001b[0m\n\u001b[0;32m    282\u001b[0m         \u001b[0marrs\u001b[0m \u001b[1;33m=\u001b[0m \u001b[1;33m[\u001b[0m\u001b[0marrs\u001b[0m\u001b[1;33m]\u001b[0m\u001b[1;33m\u001b[0m\u001b[1;33m\u001b[0m\u001b[0m\n\u001b[1;32m--> 283\u001b[1;33m     \u001b[1;32mreturn\u001b[0m \u001b[0m_nx\u001b[0m\u001b[1;33m.\u001b[0m\u001b[0mconcatenate\u001b[0m\u001b[1;33m(\u001b[0m\u001b[0marrs\u001b[0m\u001b[1;33m,\u001b[0m \u001b[1;36m0\u001b[0m\u001b[1;33m)\u001b[0m\u001b[1;33m\u001b[0m\u001b[1;33m\u001b[0m\u001b[0m\n\u001b[0m\u001b[0;32m    284\u001b[0m \u001b[1;33m\u001b[0m\u001b[0m\n\u001b[0;32m    285\u001b[0m \u001b[1;33m\u001b[0m\u001b[0m\n",
      "\u001b[1;32m<__array_function__ internals>\u001b[0m in \u001b[0;36mconcatenate\u001b[1;34m(*args, **kwargs)\u001b[0m\n",
      "\u001b[1;31mKeyboardInterrupt\u001b[0m: "
     ]
    }
   ],
   "source": [
    "if run_mode == 'train':\n",
    "    def ddpg(n_episodes=10000, max_t=1000, print_every=10):\n",
    "        \"\"\"\n",
    "        Deep Q-Learning.\n",
    "\n",
    "        Args:\n",
    "            n_episodes (int): maximum number of training episodes\n",
    "            max_t (int): maximum number of timesteps per episode\n",
    "            print_every (int): frequency of printing information\n",
    "        \"\"\"\n",
    "        scores = []  # list containing scores from each episode\n",
    "        scores_window = deque(maxlen=100)  # last 100 scores\n",
    "\n",
    "        for i_episode in range(1, n_episodes + 1):\n",
    "            states = env.reset()  # reset the environment\n",
    "            agent.reset()\n",
    "            # states = env_info.vector_observations  # get the current state\n",
    "            score = 0\n",
    "            score_old = 0\n",
    "\n",
    "            for t in range(max_t):\n",
    "                # print(type(states))\n",
    "                actions = agent.act(states)  # agent takes an action\n",
    "                next_state, rewards, done, info  = env.step(actions)  # send the action to the environment\n",
    "                # next_state = obs\n",
    "                # rewards = env_info.rewards  # get the reward\n",
    "                # dones = env_info.local_done  # check if episode has finished\n",
    "                score += np.mean(-1*rewards)\n",
    "\n",
    "                # print(f'Function value: {rewards}')\n",
    "\n",
    "                # if t % 50 == 0:  # print accumulated score every 50 steps\n",
    "                #     slope = score - score_old\n",
    "                #     print(f'accumulated score over {t} steps: {score} - slope: {slope}')\n",
    "                #     score_old = score\n",
    "\n",
    "                for i in range(num_agents):  # update the agent's state\n",
    "                    agent.step(states[i], actions[i], rewards[i], next_state[i], done, t)\n",
    "\n",
    "                states = next_state\n",
    "                if done:\n",
    "                    break\n",
    "\n",
    "            scores_window.append(score/max_t)  # save most recent score\n",
    "            scores.append(score/max_t)  # save most recent score\n",
    "\n",
    "            print('\\rEpisode {}\\tMin score: {:.2f}, average score: {:.2f}\\n'.format(i_episode, min(-1*rewards),score/max_t, end=\"\"))\n",
    "\n",
    "            # if i_episode % print_every == 0:  # print average score every \"print_every\" episodes\n",
    "            #     print('\\rwindow (100) average score at episode {}: {:.2f}\\n'.format(i_episode, np.mean(scores_window)))\n",
    "\n",
    "            # if np.mean(scores_window) >= 32:  # stop when average score is 32 or above\n",
    "            #     print('\\nEnvironment solved in {:d} episodes!\\tAverage Score: {:.2f}\\n'.format(i_episode-100, np.mean(scores_window)))\n",
    "            #     torch.save(agent.actor_local.state_dict(), 'checkpoint_actor.pth')\n",
    "            #     torch.save(agent.critic_local.state_dict(), 'checkpoint_critic.pth')\n",
    "            #     break\n",
    "\n",
    "        return scores\n",
    "\n",
    "    scores = ddpg()\n",
    "\n",
    "    # plot the scores\n",
    "    fig = plt.figure()\n",
    "    ax = fig.add_subplot(111)\n",
    "    plt.plot(np.arange(len(scores)), scores)\n",
    "    plt.ylabel('Score')\n",
    "    plt.xlabel('Episode #')\n",
    "    plt.show()\n",
    "\n",
    "else:  # load weights if not in training mode\n",
    "    agent.actor_local.load_state_dict(torch.load('checkpoint_actor.pth'))\n",
    "    agent.critic_local.load_state_dict(torch.load('checkpoint_critic.pth'))\n"
   ]
  },
  {
   "attachments": {},
   "cell_type": "markdown",
   "metadata": {},
   "source": [
    "### 6. Testing\n",
    "\n",
    "In this section, we evaluate the performance of the trained model over 100 episodes. Our agent is considered successful if it achieves an average score of 30 or higher. If the average score falls below this threshold, it indicates that the agent requires further training or parameter tuning.\n"
   ]
  },
  {
   "cell_type": "code",
   "execution_count": null,
   "metadata": {},
   "outputs": [
    {
     "ename": "TypeError",
     "evalue": "reset() got an unexpected keyword argument 'train_mode'",
     "output_type": "error",
     "traceback": [
      "\u001b[1;31m---------------------------------------------------------------------------\u001b[0m",
      "\u001b[1;31mTypeError\u001b[0m                                 Traceback (most recent call last)",
      "\u001b[1;32m<ipython-input-12-d8a6b2462b63>\u001b[0m in \u001b[0;36m<module>\u001b[1;34m\u001b[0m\n\u001b[0;32m      2\u001b[0m \u001b[0mepisodes_score\u001b[0m \u001b[1;33m=\u001b[0m \u001b[1;33m[\u001b[0m\u001b[1;33m]\u001b[0m\u001b[1;33m\u001b[0m\u001b[1;33m\u001b[0m\u001b[0m\n\u001b[0;32m      3\u001b[0m \u001b[1;32mfor\u001b[0m \u001b[0mi_episode\u001b[0m \u001b[1;32min\u001b[0m \u001b[0mrange\u001b[0m\u001b[1;33m(\u001b[0m\u001b[1;36m1\u001b[0m\u001b[1;33m,\u001b[0m \u001b[0mn_episodes\u001b[0m\u001b[1;33m+\u001b[0m\u001b[1;36m1\u001b[0m\u001b[1;33m)\u001b[0m\u001b[1;33m:\u001b[0m\u001b[1;33m\u001b[0m\u001b[1;33m\u001b[0m\u001b[0m\n\u001b[1;32m----> 4\u001b[1;33m     \u001b[0menv_info\u001b[0m \u001b[1;33m=\u001b[0m \u001b[0menv\u001b[0m\u001b[1;33m.\u001b[0m\u001b[0mreset\u001b[0m\u001b[1;33m(\u001b[0m\u001b[0mtrain_mode\u001b[0m\u001b[1;33m=\u001b[0m\u001b[1;32mFalse\u001b[0m\u001b[1;33m)\u001b[0m\u001b[1;33m[\u001b[0m\u001b[0mbrain_name\u001b[0m\u001b[1;33m]\u001b[0m \u001b[1;31m# reset the environment\u001b[0m\u001b[1;33m\u001b[0m\u001b[1;33m\u001b[0m\u001b[0m\n\u001b[0m\u001b[0;32m      5\u001b[0m     \u001b[0mstates\u001b[0m \u001b[1;33m=\u001b[0m \u001b[0menv_info\u001b[0m\u001b[1;33m.\u001b[0m\u001b[0mvector_observations\u001b[0m            \u001b[1;31m# get the current state\u001b[0m\u001b[1;33m\u001b[0m\u001b[1;33m\u001b[0m\u001b[0m\n\u001b[0;32m      6\u001b[0m     \u001b[0mscore\u001b[0m \u001b[1;33m=\u001b[0m \u001b[1;36m0\u001b[0m                                   \u001b[1;31m# initialize the score\u001b[0m\u001b[1;33m\u001b[0m\u001b[1;33m\u001b[0m\u001b[0m\n",
      "\u001b[1;31mTypeError\u001b[0m: reset() got an unexpected keyword argument 'train_mode'"
     ]
    }
   ],
   "source": [
    "n_episodes = 100  \n",
    "episodes_score = [] \n",
    "for i_episode in range(1, n_episodes+1):\n",
    "    env_info = env.reset(train_mode=False)[brain_name] # reset the environment\n",
    "    states = env_info.vector_observations            # get the current state   \n",
    "    score = 0                                   # initialize the score\n",
    "    \n",
    "    while True:\n",
    "        actions = agent.act(states)\n",
    "        env_info = env.step(np.array(actions))[brain_name]        # send the action to the environment\n",
    "        next_state = env_info.vector_observations      # get the next state\n",
    "        rewards = env_info.rewards                      # get the reward\n",
    "        dones = env_info.local_done                     # see if episode has finished2\n",
    "        score += np.mean(env_info.rewards)\n",
    "        \n",
    "        states = next_state\n",
    "        if np.any(dones):\n",
    "            break \n",
    "    episodes_score.append(score)\n",
    "    print(\"Episode {} Score: {}\".format(i_episode, score))\n",
    "\n",
    "score_avg = sum(episodes_score) / len(episodes_score)\n",
    "if score_avg > 30:\n",
    "    print(\"Smart Agent PASSED :) Average score = \", score_avg)\n",
    "else:\n",
    "    print(\"Smart Agent FAILED :( Average score = \", score_avg)"
   ]
  },
  {
   "cell_type": "code",
   "execution_count": null,
   "metadata": {},
   "outputs": [],
   "source": [
    "env.close()"
   ]
  }
 ],
 "metadata": {
  "kernelspec": {
   "display_name": "Python 3",
   "language": "python",
   "name": "python3"
  },
  "language_info": {
   "codemirror_mode": {
    "name": "ipython",
    "version": 3
   },
   "file_extension": ".py",
   "mimetype": "text/x-python",
   "name": "python",
   "nbconvert_exporter": "python",
   "pygments_lexer": "ipython3",
   "version": "3.6.13"
  }
 },
 "nbformat": 4,
 "nbformat_minor": 2
}
