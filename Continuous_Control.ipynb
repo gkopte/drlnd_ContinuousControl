{
 "cells": [
  {
   "attachments": {},
   "cell_type": "markdown",
   "metadata": {},
   "source": [
    "# Reacher\n",
    "\n",
    "---\n",
    "\n",
    "In this notebook, you will find a solution for the second project of the [Deep Reinforcement Learning Nanodegree](https://www.udacity.com/course/deep-reinforcement-learning-nanodegree--nd893). This project involves the use of the Unity ML-Agents environment called Reacher. In this notebook, we are solving the second version of the environment, which includes 20 agents.\n",
    "\n",
    "In this environment, a double-jointed arm can move to target locations. A reward of +0.1 is provided for each step that the agent's hand is in the goal location. Thus, the goal of your agent is to maintain its position at the target location for as many time steps as possible.\n",
    "\n",
    "The environment is considered solved, when the average (over 100 episodes) of those average scores is at least +30.\n",
    "\n",
    "\n",
    "### 1. Start the Environment\n",
    "\n",
    "Run the following code cell to install a few packages. This may take a few minutes to complete.\n"
   ]
  },
  {
   "cell_type": "code",
   "execution_count": 2,
   "metadata": {},
   "outputs": [
    {
     "name": "stdout",
     "output_type": "stream",
     "text": [
      "\u001b[31mtensorflow 1.7.1 has requirement numpy>=1.13.3, but you'll have numpy 1.12.1 which is incompatible.\u001b[0m\r\n",
      "\u001b[31mipython 6.5.0 has requirement prompt-toolkit<2.0.0,>=1.0.15, but you'll have prompt-toolkit 3.0.36 which is incompatible.\u001b[0m\r\n",
      "\u001b[31mjupyter-console 6.4.3 has requirement jupyter-client>=7.0.0, but you'll have jupyter-client 5.2.4 which is incompatible.\u001b[0m\r\n"
     ]
    }
   ],
   "source": [
    "!pip -q install ./python"
   ]
  },
  {
   "attachments": {},
   "cell_type": "markdown",
   "metadata": {},
   "source": [
    "Now you need to choose how you want to run this notebook:\n",
    "\n",
    "- Set 'run_mode' to \"train\" if you want to train a new agent from scratch.\n",
    "- Alternatively, set 'run_mode' to \"test\" if you want to evaluate a pre-trained model.\n",
    "\n",
    "If you prefer not to visualize the agent during the training and testing process, change 'no_rendering' to True."
   ]
  },
  {
   "cell_type": "code",
   "execution_count": 1,
   "metadata": {},
   "outputs": [],
   "source": [
    "# Select the 'train' to train an agent from scratch or 'test' to test a saved agent.\n",
    "run_mode = 'test'  \n",
    "\n",
    "# Set to True to visualize the agent during evaluation.\n",
    "no_rendering = True"
   ]
  },
  {
   "attachments": {},
   "cell_type": "markdown",
   "metadata": {},
   "source": [
    "Importing some necessary packages."
   ]
  },
  {
   "cell_type": "code",
   "execution_count": 3,
   "metadata": {},
   "outputs": [],
   "source": [
    "from unityagents import UnityEnvironment\n",
    "import numpy as np\n",
    "from collections import deque\n",
    "import random\n",
    "import torch\n",
    "import numpy as np\n",
    "\n",
    "\n",
    "import matplotlib.pyplot as plt\n",
    "%matplotlib inline"
   ]
  },
  {
   "attachments": {},
   "cell_type": "markdown",
   "metadata": {},
   "source": [
    "Next, we're going to start the environment! **_Before you run the code cell below_**, ensure the `file_name` parameter matches the location of the Unity environment that you downloaded.\n",
    "\n",
    "- **Mac**: `\\\"path/to/Reacher.app\\\"`\\n\",\n",
    "- **Windows** (x86): `\\\"path/to/Reacher_Windows_x86/Reacher.exe\\\"`\\n\",\n",
    "- **Windows** (x86_64): `\\\"path/to/Reacher_Windows_x86_64/Reacher.exe\\\"`\\n\",\n",
    "- **Linux** (x86): `\\\"path/to/Reacher_Linux/Reacher.x86\\\"`\\n\",\n",
    "- **Linux** (x86_64): `\\\"path/to/Reacher_Linux/Reacher.x86_64\\\"`\\n\",\n",
    "- **Linux** (x86, headless): `\\\"path/to/Reacher_Linux_NoVis/Reacher.x86\\\"`\\n\",\n",
    "- **Linux** (x86_64, headless): `\\\"path/to/Reacher_Linux_NoVis/Reacher.x86_64\\\"`\\n\",\n",
    "\n",
    "Since I'm running this on Windows 10 64-bit, and the environment is located in \"./Reacher_Windows_x86_64/Reacher.exe\", I'm going to set my environment like so:\n",
    "\n",
    "```python\n",
    "env = UnityEnvironment(file_name=\"./Reacher_Windows_x86_64/Reacher.exe\")\n"
   ]
  },
  {
   "cell_type": "code",
   "execution_count": 4,
   "metadata": {},
   "outputs": [
    {
     "name": "stderr",
     "output_type": "stream",
     "text": [
      "INFO:unityagents:\n",
      "'Academy' started successfully!\n",
      "Unity Academy name: Academy\n",
      "        Number of Brains: 1\n",
      "        Number of External Brains : 1\n",
      "        Lesson number : 0\n",
      "        Reset Parameters :\n",
      "\t\tgoal_speed -> 1.0\n",
      "\t\tgoal_size -> 5.0\n",
      "Unity brain name: ReacherBrain\n",
      "        Number of Visual Observations (per agent): 0\n",
      "        Vector Observation space type: continuous\n",
      "        Vector Observation space size (per agent): 33\n",
      "        Number of stacked Vector Observation: 1\n",
      "        Vector Action space type: continuous\n",
      "        Vector Action space size (per agent): 4\n",
      "        Vector Action descriptions: , , , \n"
     ]
    }
   ],
   "source": [
    "env = UnityEnvironment(file_name='/data/Reacher_Linux_NoVis/Reacher.x86_64') "
   ]
  },
  {
   "attachments": {},
   "cell_type": "markdown",
   "metadata": {},
   "source": [
    "Environments contain **_brains_** which are responsible for deciding the actions of their associated agents. Here we check for the first brain available, and set it as the default brain we will be controlling from Python."
   ]
  },
  {
   "cell_type": "code",
   "execution_count": 5,
   "metadata": {},
   "outputs": [],
   "source": [
    "# get the default brain\n",
    "brain_name = env.brain_names[0]\n",
    "brain = env.brains[brain_name]"
   ]
  },
  {
   "attachments": {},
   "cell_type": "markdown",
   "metadata": {},
   "source": [
    "### 2. Examine the State and Action Spaces\n",
    "\n",
    "The observation space consists of 33 variables corresponding to position, rotation, velocity, and angular velocities of the arm. Each action is a vector with four numbers, corresponding to torque applicable to two joints. Every entry in the action vector should be a number between -1 and 1."
   ]
  },
  {
   "cell_type": "code",
   "execution_count": 6,
   "metadata": {},
   "outputs": [
    {
     "name": "stdout",
     "output_type": "stream",
     "text": [
      "Number of agents: 20\n",
      "Size of each action: 4\n",
      "There are 20 agents. Each observes a state with length: 33\n",
      "The state for the first agent looks like: [  0.00000000e+00  -4.00000000e+00   0.00000000e+00   1.00000000e+00\n",
      "  -0.00000000e+00  -0.00000000e+00  -4.37113883e-08   0.00000000e+00\n",
      "   0.00000000e+00   0.00000000e+00   0.00000000e+00   0.00000000e+00\n",
      "   0.00000000e+00   0.00000000e+00  -1.00000000e+01   0.00000000e+00\n",
      "   1.00000000e+00  -0.00000000e+00  -0.00000000e+00  -4.37113883e-08\n",
      "   0.00000000e+00   0.00000000e+00   0.00000000e+00   0.00000000e+00\n",
      "   0.00000000e+00   0.00000000e+00   5.75471878e+00  -1.00000000e+00\n",
      "   5.55726624e+00   0.00000000e+00   1.00000000e+00   0.00000000e+00\n",
      "  -1.68164849e-01]\n"
     ]
    }
   ],
   "source": [
    "# reset the environment\n",
    "env_info = env.reset(train_mode=True)[brain_name]\n",
    "\n",
    "# number of agents\n",
    "num_agents = len(env_info.agents)\n",
    "print('Number of agents:', num_agents)\n",
    "\n",
    "# size of each action\n",
    "action_size = brain.vector_action_space_size\n",
    "print('Size of each action:', action_size)\n",
    "\n",
    "# examine the state space \n",
    "states = env_info.vector_observations\n",
    "state_size = states.shape[1]\n",
    "print('There are {} agents. Each observes a state with length: {}'.format(states.shape[0], state_size))\n",
    "print('The state for the first agent looks like:', states[0])"
   ]
  },
  {
   "attachments": {},
   "cell_type": "markdown",
   "metadata": {},
   "source": [
    "### 4. Creating a Smart Agent\n",
    "\n",
    "In this section, we will instantiate a DDPG agent defined in `ddpg_agent.py` and `model.py`."
   ]
  },
  {
   "cell_type": "code",
   "execution_count": 7,
   "metadata": {},
   "outputs": [],
   "source": [
    "from ddpg_agent import Agent\n",
    "agent = Agent(state_size=state_size, action_size=action_size, random_seed=37)"
   ]
  },
  {
   "attachments": {},
   "cell_type": "markdown",
   "metadata": {},
   "source": [
    "### 5. Training Loop\n",
    "\n",
    "In this step, we will train our agent using the 'ddpg' function. The training will run for 'n_episodes' or until the agent achieves an average score of 30 or higher over a span of 100 episodes. After training, a graph is generated to provide a visual representation of the agent's performance across the episodes, illustrating how the score has evolved over the course of training.\n",
    "\n",
    "\n"
   ]
  },
  {
   "cell_type": "code",
   "execution_count": 8,
   "metadata": {},
   "outputs": [],
   "source": [
    "if run_mode == 'train':\n",
    "    def ddpg(n_episodes=1000, max_t=1000, print_every=10):\n",
    "        \"\"\"\n",
    "        Deep Q-Learning.\n",
    "\n",
    "        Args:\n",
    "            n_episodes (int): maximum number of training episodes\n",
    "            max_t (int): maximum number of timesteps per episode\n",
    "            print_every (int): frequency of printing information\n",
    "        \"\"\"\n",
    "        scores = []  # list containing scores from each episode\n",
    "        scores_window = deque(maxlen=100)  # last 100 scores\n",
    "\n",
    "        for i_episode in range(1, n_episodes + 1):\n",
    "            env_info = env.reset(train_mode=True)[brain_name]  # reset the environment\n",
    "            agent.reset()\n",
    "            states = env_info.vector_observations  # get the current state\n",
    "            score = 0\n",
    "            score_old = 0\n",
    "\n",
    "            for t in range(max_t):\n",
    "                actions = agent.act(states)  # agent takes an action\n",
    "                env_info = env.step(actions)[brain_name]  # send the action to the environment\n",
    "                next_state = env_info.vector_observations  # get the next state\n",
    "                rewards = env_info.rewards  # get the reward\n",
    "                dones = env_info.local_done  # check if episode has finished\n",
    "                score += np.mean(rewards)\n",
    "\n",
    "                if t % 50 == 0:  # print accumulated score every 50 steps\n",
    "                    slope = score - score_old\n",
    "                    print(f'accumulated score over {t} steps: {score} - slope: {slope}')\n",
    "                    score_old = score\n",
    "\n",
    "                for i in range(num_agents):  # update the agent's state\n",
    "                    agent.step(states[i], actions[i], rewards[i], next_state[i], dones[i], t)\n",
    "\n",
    "                states = next_state\n",
    "                if np.any(dones):\n",
    "                    break\n",
    "\n",
    "            scores_window.append(score)  # save most recent score\n",
    "            scores.append(score)  # save most recent score\n",
    "\n",
    "            print('\\rEpisode {}\\tScore: {:.2f}\\n'.format(i_episode, score), end=\"\")\n",
    "\n",
    "            if i_episode % print_every == 0:  # print average score every \"print_every\" episodes\n",
    "                print('\\rwindow (100) average score at episode {}: {:.2f}\\n'.format(i_episode, np.mean(scores_window)))\n",
    "\n",
    "            if np.mean(scores_window) >= 32:  # stop when average score is 32 or above\n",
    "                print('\\nEnvironment solved in {:d} episodes!\\tAverage Score: {:.2f}\\n'.format(i_episode-100, np.mean(scores_window)))\n",
    "                torch.save(agent.actor_local.state_dict(), 'checkpoint_actor.pth')\n",
    "                torch.save(agent.critic_local.state_dict(), 'checkpoint_critic.pth')\n",
    "                break\n",
    "\n",
    "        return scores\n",
    "\n",
    "    scores = ddpg(max_t=10000)\n",
    "\n",
    "    # plot the scores\n",
    "    fig = plt.figure()\n",
    "    ax = fig.add_subplot(111)\n",
    "    plt.plot(np.arange(len(scores)), scores)\n",
    "    plt.ylabel('Score')\n",
    "    plt.xlabel('Episode #')\n",
    "    plt.show()\n",
    "\n",
    "else:  # load weights if not in training mode\n",
    "    agent.actor_local.load_state_dict(torch.load('checkpoint_actor.pth'))\n",
    "    agent.critic_local.load_state_dict(torch.load('checkpoint_critic.pth'))\n"
   ]
  },
  {
   "attachments": {},
   "cell_type": "markdown",
   "metadata": {},
   "source": [
    "![alt text](./training.png)"
   ]
  },
  {
   "attachments": {},
   "cell_type": "markdown",
   "metadata": {},
   "source": [
    "### 6. Testing\n",
    "\n",
    "In this section, we evaluate the performance of the trained model over 100 episodes. Our agent is considered successful if it achieves an average score of 30 or higher. If the average score falls below this threshold, it indicates that the agent requires further training or parameter tuning.\n"
   ]
  },
  {
   "cell_type": "code",
   "execution_count": 9,
   "metadata": {},
   "outputs": [
    {
     "name": "stdout",
     "output_type": "stream",
     "text": [
      "Episode 1 Score: 38.808999132551364\n",
      "Episode 2 Score: 38.62599913664179\n",
      "Episode 3 Score: 38.59999913722284\n",
      "Episode 4 Score: 38.52199913896634\n",
      "Episode 5 Score: 38.97349912887452\n",
      "Episode 6 Score: 38.48499913979346\n",
      "Episode 7 Score: 38.772999133356045\n",
      "Episode 8 Score: 38.145999147370624\n",
      "Episode 9 Score: 38.19249914633127\n",
      "Episode 10 Score: 38.576999137737005\n",
      "Episode 11 Score: 38.83549913195904\n",
      "Episode 12 Score: 38.98149912869566\n",
      "Episode 13 Score: 38.7299991343172\n",
      "Episode 14 Score: 38.616999136842985\n",
      "Episode 15 Score: 38.502999139391164\n",
      "Episode 16 Score: 38.02399915009765\n",
      "Episode 17 Score: 38.208999145962544\n",
      "Episode 18 Score: 38.26649914467729\n",
      "Episode 19 Score: 38.713999134674786\n",
      "Episode 20 Score: 37.714499157015474\n",
      "Episode 21 Score: 38.67749913549065\n",
      "Episode 22 Score: 38.58149913763647\n",
      "Episode 23 Score: 38.95949912918746\n",
      "Episode 24 Score: 38.46349914027398\n",
      "Episode 25 Score: 38.375999142229865\n",
      "Episode 26 Score: 38.246999145113136\n",
      "Episode 27 Score: 38.296999143995535\n",
      "Episode 28 Score: 39.05799912698572\n",
      "Episode 29 Score: 39.24599912278365\n",
      "Episode 30 Score: 37.31749916588909\n",
      "Episode 31 Score: 37.59149915976472\n",
      "Episode 32 Score: 38.57699913773705\n",
      "Episode 33 Score: 38.82049913229438\n",
      "Episode 34 Score: 38.504499139357534\n",
      "Episode 35 Score: 38.38499914202855\n",
      "Episode 36 Score: 37.99949915064517\n",
      "Episode 37 Score: 38.60749913705532\n",
      "Episode 38 Score: 38.429999141022776\n",
      "Episode 39 Score: 38.03999914973994\n",
      "Episode 40 Score: 38.057499149348835\n",
      "Episode 41 Score: 38.67249913560249\n",
      "Episode 42 Score: 37.90449915276862\n",
      "Episode 43 Score: 38.304499143827705\n",
      "Episode 44 Score: 37.313499165978385\n",
      "Episode 45 Score: 38.21799914576126\n",
      "Episode 46 Score: 38.41349914139156\n",
      "Episode 47 Score: 38.44749914063163\n",
      "Episode 48 Score: 37.33399916552028\n",
      "Episode 49 Score: 38.51599913910051\n",
      "Episode 50 Score: 38.86999913118791\n",
      "Episode 51 Score: 38.68249913537892\n",
      "Episode 52 Score: 38.92399912998089\n",
      "Episode 53 Score: 39.008999128081015\n",
      "Episode 54 Score: 38.755499133747264\n",
      "Episode 55 Score: 38.7179991345854\n",
      "Episode 56 Score: 39.18699912410238\n",
      "Episode 57 Score: 38.33399914316852\n",
      "Episode 58 Score: 38.49799913950278\n",
      "Episode 59 Score: 38.7079991348089\n",
      "Episode 60 Score: 38.46699914019577\n",
      "Episode 61 Score: 38.732999134250115\n",
      "Episode 62 Score: 38.80299913268547\n",
      "Episode 63 Score: 38.916999130137384\n",
      "Episode 64 Score: 38.40799914151441\n",
      "Episode 65 Score: 39.11199912577879\n",
      "Episode 66 Score: 38.586999137513466\n",
      "Episode 67 Score: 39.04099912736577\n",
      "Episode 68 Score: 37.956499151606415\n",
      "Episode 69 Score: 38.457499140408046\n",
      "Episode 70 Score: 38.78299913313253\n",
      "Episode 71 Score: 39.17649912433706\n",
      "Episode 72 Score: 38.78049913318857\n",
      "Episode 73 Score: 39.01049912804749\n",
      "Episode 74 Score: 38.45799914039696\n",
      "Episode 75 Score: 37.97249915124877\n",
      "Episode 76 Score: 38.775999133288934\n",
      "Episode 77 Score: 38.20149914613017\n",
      "Episode 78 Score: 37.93549915207567\n",
      "Episode 79 Score: 38.66349913580357\n",
      "Episode 80 Score: 38.94949912941098\n",
      "Episode 81 Score: 38.87099913116557\n",
      "Episode 82 Score: 38.30749914376091\n",
      "Episode 83 Score: 38.12899914775068\n",
      "Episode 84 Score: 37.83299915436678\n",
      "Episode 85 Score: 38.174499146733694\n",
      "Episode 86 Score: 38.63699913639594\n",
      "Episode 87 Score: 38.75349913379196\n",
      "Episode 88 Score: 38.842499131802576\n",
      "Episode 89 Score: 38.361999142542615\n",
      "Episode 90 Score: 37.88849915312622\n",
      "Episode 91 Score: 38.935999129712705\n",
      "Episode 92 Score: 37.96699915137167\n",
      "Episode 93 Score: 38.46849914016215\n",
      "Episode 94 Score: 38.254999144934295\n",
      "Episode 95 Score: 38.742999134026604\n",
      "Episode 96 Score: 39.00849912809216\n",
      "Episode 97 Score: 38.310999143682565\n",
      "Episode 98 Score: 38.74899913389255\n",
      "Episode 99 Score: 38.7189991345631\n",
      "Episode 100 Score: 38.33249914320205\n",
      "Smart Agent PASSED :) Average score =  38.4982241395\n"
     ]
    }
   ],
   "source": [
    "n_episodes = 100  \n",
    "episodes_score = [] \n",
    "for i_episode in range(1, n_episodes+1):\n",
    "    env_info = env.reset(train_mode=False)[brain_name] # reset the environment\n",
    "    states = env_info.vector_observations            # get the current state   \n",
    "    score = 0                                   # initialize the score\n",
    "    \n",
    "    while True:\n",
    "        actions = agent.act(states)\n",
    "        env_info = env.step(np.array(actions))[brain_name]        # send the action to the environment\n",
    "        next_state = env_info.vector_observations      # get the next state\n",
    "        rewards = env_info.rewards                      # get the reward\n",
    "        dones = env_info.local_done                     # see if episode has finished2\n",
    "        score += np.mean(env_info.rewards)\n",
    "        \n",
    "        states = next_state\n",
    "        if np.any(dones):\n",
    "            break \n",
    "    episodes_score.append(score)\n",
    "    print(\"Episode {} Score: {}\".format(i_episode, score))\n",
    "\n",
    "score_avg = sum(episodes_score) / len(episodes_score)\n",
    "if score_avg > 30:\n",
    "    print(\"Smart Agent PASSED :) Average score = \", score_avg)\n",
    "else:\n",
    "    print(\"Smart Agent FAILED :( Average score = \", score_avg)"
   ]
  },
  {
   "cell_type": "code",
   "execution_count": 10,
   "metadata": {},
   "outputs": [],
   "source": [
    "env.close()"
   ]
  }
 ],
 "metadata": {
  "kernelspec": {
   "display_name": "Python 3",
   "language": "python",
   "name": "python3"
  },
  "language_info": {
   "codemirror_mode": {
    "name": "ipython",
    "version": 3
   },
   "file_extension": ".py",
   "mimetype": "text/x-python",
   "name": "python",
   "nbconvert_exporter": "python",
   "pygments_lexer": "ipython3",
   "version": "3.6.13"
  }
 },
 "nbformat": 4,
 "nbformat_minor": 2
}
