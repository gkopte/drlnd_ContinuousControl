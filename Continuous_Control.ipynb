{
 "cells": [
  {
   "attachments": {},
   "cell_type": "markdown",
   "metadata": {},
   "source": [
    "# Reacher\n",
    "\n",
    "---\n",
    "\n",
    "In this notebook, you will find a solution for the first project of the [Deep Reinforcement Learning Nanodegree](https://www.udacity.com/course/deep-reinforcement-learning-nanodegree--nd893). This project involves the use of the Unity ML-Agents environment.\n",
    "\n",
    "Firstly, you need to choose how you want to run this notebook:\n",
    "\n",
    "- Set 'run_mode' to \"train\" if you want to train a new agent from scratch.\n",
    "- Alternatively, set 'run_mode' to \"test\" if you want to evaluate a pre-trained model.\n",
    "\n",
    "If you prefer not to visualize the agent during the training and testing process, change 'no_rendering' to True.\n"
   ]
  },
  {
   "cell_type": "code",
   "execution_count": 1,
   "metadata": {},
   "outputs": [],
   "source": [
    "# !pip -q install ./python"
   ]
  },
  {
   "cell_type": "code",
   "execution_count": 2,
   "metadata": {},
   "outputs": [],
   "source": [
    "# Select the 'train' to train an agent from scratch or 'test' to test a saved agent.\n",
    "run_mode = 'test'  \n",
    "\n",
    "# Set to True to visualize the agent during evaluation.\n",
    "no_rendering = False   \n",
    "\n",
    "env_version = 'many'\n"
   ]
  },
  {
   "attachments": {},
   "cell_type": "markdown",
   "metadata": {},
   "source": [
    "### 1. Start the Environment\n",
    "\n",
    "We begin by importing some necessary packages."
   ]
  },
  {
   "cell_type": "code",
   "execution_count": 3,
   "metadata": {},
   "outputs": [],
   "source": [
    "from unityagents import UnityEnvironment\n",
    "import numpy as np\n",
    "from collections import deque\n",
    "import random\n",
    "import torch\n",
    "import numpy as np\n",
    "\n",
    "\n",
    "import matplotlib.pyplot as plt\n",
    "%matplotlib inline"
   ]
  },
  {
   "attachments": {},
   "cell_type": "markdown",
   "metadata": {},
   "source": [
    "Next, we're going to start the environment! **_Before you run the code cell below_**, ensure the `file_name` parameter matches the location of the Unity environment that you downloaded.\n",
    "\n",
    "- **Mac**: `\"path/to/Banana.app\"`\n",
    "- **Windows** (x86): `\"path/to/Banana_Windows_x86/Banana.exe\"`\n",
    "- **Windows** (x86_64): `\"path/to/Banana_Windows_x86_64/Banana.exe\"`\n",
    "- **Linux** (x86): `\"path/to/Banana_Linux/Banana.x86\"`\n",
    "- **Linux** (x86_64): `\"path/to/Banana_Linux/Banana.x86_64\"`\n",
    "- **Linux** (x86, headless): `\"path/to/Banana_Linux_NoVis/Banana.x86\"`\n",
    "- **Linux** (x86_64, headless): `\"path/to/Banana_Linux_NoVis/Banana.x86_64\"`\n",
    "\n",
    "Since I'm running this on Windows 10 64-bit, and the environment is located in \"./Banana_Windows_x86_64/\", I'm going to set my environment like so:\n",
    "\n",
    "```python\n",
    "env = UnityEnvironment(file_name=\"./Banana_Windows_x86_64/banana.exe\")\n"
   ]
  },
  {
   "cell_type": "code",
   "execution_count": 4,
   "metadata": {},
   "outputs": [
    {
     "name": "stderr",
     "output_type": "stream",
     "text": [
      "INFO:unityagents:\n",
      "'Academy' started successfully!\n",
      "Unity Academy name: Academy\n",
      "        Number of Brains: 1\n",
      "        Number of External Brains : 1\n",
      "        Lesson number : 0\n",
      "        Reset Parameters :\n",
      "\t\tgoal_speed -> 1.0\n",
      "\t\tgoal_size -> 5.0\n",
      "Unity brain name: ReacherBrain\n",
      "        Number of Visual Observations (per agent): 0\n",
      "        Vector Observation space type: continuous\n",
      "        Vector Observation space size (per agent): 33\n",
      "        Number of stacked Vector Observation: 1\n",
      "        Vector Action space type: continuous\n",
      "        Vector Action space size (per agent): 4\n",
      "        Vector Action descriptions: , , , \n"
     ]
    }
   ],
   "source": [
    "if env_version.lower() == 'single':\n",
    "    env = UnityEnvironment(file_name='./Reacher_Windows_x86_64/Reacher.exe')\n",
    "else: #many\n",
    "    env = UnityEnvironment(file_name='./ManyReachers_Windows_x86_64/Reacher.exe')\n",
    "    "
   ]
  },
  {
   "attachments": {},
   "cell_type": "markdown",
   "metadata": {},
   "source": [
    "Environments contain **_brains_** which are responsible for deciding the actions of their associated agents. Here we check for the first brain available, and set it as the default brain we will be controlling from Python."
   ]
  },
  {
   "cell_type": "code",
   "execution_count": 5,
   "metadata": {},
   "outputs": [],
   "source": [
    "# get the default brain\n",
    "brain_name = env.brain_names[0]\n",
    "brain = env.brains[brain_name]"
   ]
  },
  {
   "attachments": {},
   "cell_type": "markdown",
   "metadata": {},
   "source": [
    "### 2. Examine the State and Action Spaces\n",
    "\n",
    "The simulation contains a single agent that navigates a large environment.  At each time step, it has four actions at its disposal:\n",
    "- `0` - walk forward \n",
    "- `1` - walk backward\n",
    "- `2` - turn left\n",
    "- `3` - turn right\n",
    "\n",
    "The state space has `37` dimensions and contains the agent's velocity, along with ray-based perception of objects around agent's forward direction.  A reward of `+1` is provided for collecting a yellow banana, and a reward of `-1` is provided for collecting a blue banana. \n",
    "\n",
    "Run the code cell below to print some information about the environment."
   ]
  },
  {
   "cell_type": "code",
   "execution_count": 6,
   "metadata": {},
   "outputs": [
    {
     "name": "stdout",
     "output_type": "stream",
     "text": [
      "Number of agents: 20\n",
      "Size of each action: 4\n",
      "There are 20 agents. Each observes a state with length: 33\n",
      "The state for the first agent looks like: [ 0.00000000e+00 -4.00000000e+00  0.00000000e+00  1.00000000e+00\n",
      " -0.00000000e+00 -0.00000000e+00 -4.37113883e-08  0.00000000e+00\n",
      "  0.00000000e+00  0.00000000e+00  0.00000000e+00  0.00000000e+00\n",
      "  0.00000000e+00  0.00000000e+00 -1.00000000e+01  0.00000000e+00\n",
      "  1.00000000e+00 -0.00000000e+00 -0.00000000e+00 -4.37113883e-08\n",
      "  0.00000000e+00  0.00000000e+00  0.00000000e+00  0.00000000e+00\n",
      "  0.00000000e+00  0.00000000e+00  5.75471878e+00 -1.00000000e+00\n",
      "  5.55726624e+00  0.00000000e+00  1.00000000e+00  0.00000000e+00\n",
      " -1.68164849e-01]\n"
     ]
    }
   ],
   "source": [
    "# reset the environment\n",
    "env_info = env.reset(train_mode=True)[brain_name]\n",
    "\n",
    "# number of agents\n",
    "num_agents = len(env_info.agents)\n",
    "print('Number of agents:', num_agents)\n",
    "\n",
    "# size of each action\n",
    "action_size = brain.vector_action_space_size\n",
    "print('Size of each action:', action_size)\n",
    "\n",
    "# examine the state space \n",
    "states = env_info.vector_observations\n",
    "state_size = states.shape[1]\n",
    "print('There are {} agents. Each observes a state with length: {}'.format(states.shape[0], state_size))\n",
    "print('The state for the first agent looks like:', states[0])"
   ]
  },
  {
   "attachments": {},
   "cell_type": "markdown",
   "metadata": {},
   "source": [
    "### 4. Creating a Smart Agent\n",
    "\n",
    "In this section, we will instantiate the Deep Q-Learning Agent, defined in `dqn_agent.py`. We only need to specify the state size, the action size, and a seed for generating random numbers.\n"
   ]
  },
  {
   "cell_type": "code",
   "execution_count": 7,
   "metadata": {},
   "outputs": [],
   "source": [
    "from ddpg_agent import Agent\n",
    "agent = Agent(state_size=state_size, action_size=action_size, random_seed=37)\n",
    "# agents = []\n",
    "# for i in range(num_agents):\n",
    "#     agents.append(Agent(state_size=state_size, action_size=action_size, random_seed=i))"
   ]
  },
  {
   "attachments": {},
   "cell_type": "markdown",
   "metadata": {},
   "source": [
    "### 5. Training Loop\n",
    "\n",
    "In this step, we will train our agent using the 'dqn' function. The training will run for 'n_episodes' or until the agent achieves an average score of 15 or higher over a span of 100 episodes. After training, a graph is generated to provide a visual representation of the agent's performance across the episodes, illustrating how the score has evolved over the course of training.\n",
    "\n",
    "\n"
   ]
  },
  {
   "cell_type": "code",
   "execution_count": 8,
   "metadata": {},
   "outputs": [],
   "source": [
    "if run_mode == 'train':\n",
    "    def ddpg(n_episodes=1000, max_t=1000, print_every=10):\n",
    "        \"\"\"Deep Q-Learning.\n",
    "\n",
    "        Params\n",
    "        ======\n",
    "            n_episodes (int): maximum number of training episodes\n",
    "            max_t (int): maximum number of timesteps per episode\n",
    "            eps_start (float): starting value of epsilon, for epsilon-greedy action selection\n",
    "            eps_end (float): minimum value of epsilon\n",
    "            eps_decay (float): multiplicative factor (per episode) for decreasing epsilon\n",
    "        \"\"\"\n",
    "        scores = []                        # list containing scores from each episode\n",
    "        scores_window = deque(maxlen=100)  # last 100 scores\n",
    "        for i_episode in range(1, n_episodes+1):\n",
    "            env_info = env.reset(train_mode=True)[brain_name] # reset the environment\n",
    "            agent.reset()\n",
    "            states = env_info.vector_observations            # get the current state\n",
    "\n",
    "            score = 0\n",
    "            # agents_score = [0 for i in range(num_agents)]\n",
    "            score_old = 0\n",
    "            for t in range(max_t):               \n",
    "                actions = agent.act(states)\n",
    "                # print('actions: ', actions)\n",
    "                env_info = env.step(actions)[brain_name]        # send the action to the environment\n",
    "                next_state = env_info.vector_observations      # get the next state\n",
    "                rewards = env_info.rewards                      # get the reward\n",
    "                dones = env_info.local_done                     # see if episode has finished\n",
    "                score += np.mean(rewards)\n",
    "\n",
    "                interval = 50\n",
    "                if t % interval == 0:\n",
    "                    # print(f'\\npartial mean score in t={t}: {max_t*score/t}')\n",
    "                    slope = (score-score_old)#/interval\n",
    "                    print(f'accumulated score over {t} steps: {score} - slope: {slope}')\n",
    "                    score_old = score\n",
    "\n",
    "\n",
    "                for i in range(num_agents):\n",
    "                    agent.step(states[i], actions[i], rewards[i], next_state[i], dones[i], t)\n",
    "                 \n",
    "                states = next_state\n",
    "                if np.any(dones):\n",
    "                    break \n",
    "\n",
    "            scores_window.append(score)       # save most recent score\n",
    "            scores.append(score)              # save most recent score\n",
    "            # eps = max(eps_end, eps_decay*eps) # decrease epsilon\n",
    "            print('\\rEpisode {}\\tScore: {:.2f}\\n'.format(i_episode, score), end=\"\")\n",
    "            if i_episode % print_every == 0:\n",
    "                print('\\rwindow (100) average score at episode {}: {:.2f}\\n'.format(i_episode, np.mean(scores_window)))\n",
    "            if np.mean(scores_window)>=32:\n",
    "                print('\\nEnvironment solved in {:d} episodes!\\tAverage Score: {:.2f}\\n'.format(i_episode-100, np.mean(scores_window)))\n",
    "\n",
    "                torch.save(agent.actor_local.state_dict(), 'checkpoint_actor.pth')\n",
    "                torch.save(agent.critic_local.state_dict(), 'checkpoint_critic.pth')\n",
    "                # for n, agent in enumerate(agents):\n",
    "                #     torch.save(agent.actor_local.state_dict(), str(n)+'_checkpoint_actor.pth')\n",
    "                #     torch.save(agent.critic_local.state_dict(), str(n)+'_checkpoint_critic.pth')\n",
    "                break\n",
    "        return scores\n",
    "\n",
    "    scores = ddpg(max_t=10000)\n",
    "\n",
    "    # plot the scores\n",
    "    fig = plt.figure()\n",
    "    ax = fig.add_subplot(111)\n",
    "    plt.plot(np.arange(len(scores)), scores)\n",
    "    plt.ylabel('Score')\n",
    "    plt.xlabel('Episode #')\n",
    "    plt.show()\n",
    "\n",
    "else:\n",
    "    # Load the weights\n",
    "    agent.actor_local.load_state_dict(torch.load('checkpoint_actor.pth'))\n",
    "    agent.critic_local.load_state_dict(torch.load('checkpoint_critic.pth'))\n",
    "    # for n, agent in enumerate(agents):\n",
    "    #     agent.actor_local.load_state_dict(torch.load(str(n)+'_checkpoint_actor.pth'))\n",
    "    #     agent.critic_local.load_state_dict(torch.load(str(n)+'_checkpoint_critic.pth'))\n"
   ]
  },
  {
   "cell_type": "code",
   "execution_count": 9,
   "metadata": {},
   "outputs": [],
   "source": [
    "# torch.save(agent.actor_local.state_dict(), 'checkpoint_actor.pth')\n",
    "# torch.save(agent.critic_local.state_dict(), 'checkpoint_critic.pth')\n"
   ]
  },
  {
   "attachments": {},
   "cell_type": "markdown",
   "metadata": {},
   "source": [
    "### 6. Testing\n",
    "\n",
    "In this section, we evaluate the performance of the trained model over 100 episodes. Our agent is considered successful if it achieves an average score of 13 or higher. If the average score falls below this threshold, it indicates that the agent requires further training or parameter tuning.\n"
   ]
  },
  {
   "cell_type": "code",
   "execution_count": 10,
   "metadata": {},
   "outputs": [
    {
     "name": "stdout",
     "output_type": "stream",
     "text": [
      "Episode 1 Score: 38.869499131199085\n",
      "Episode 2 Score: 38.66349913580357\n",
      "Episode 3 Score: 38.52849913882102\n"
     ]
    }
   ],
   "source": [
    "n_episodes = 100  \n",
    "episodes_score = [] \n",
    "for i_episode in range(1, n_episodes+1):\n",
    "    env_info = env.reset(train_mode=False)[brain_name] # reset the environment\n",
    "    states = env_info.vector_observations            # get the current state   \n",
    "    score = 0                                   # initialize the score\n",
    "    \n",
    "    while True:\n",
    "        actions = agent.act(states)\n",
    "        env_info = env.step(np.array(actions))[brain_name]        # send the action to the environment\n",
    "        next_state = env_info.vector_observations      # get the next state\n",
    "        rewards = env_info.rewards                      # get the reward\n",
    "        dones = env_info.local_done                     # see if episode has finished2\n",
    "        score += np.mean(env_info.rewards)\n",
    "        \n",
    "        states = next_state\n",
    "        if np.any(dones):\n",
    "            break \n",
    "    episodes_score.append(score)\n",
    "    print(\"Episode {} Score: {}\".format(i_episode, score))\n",
    "\n",
    "score_avg = sum(episodes_score) / len(episodes_score)\n",
    "if score_avg > 30:\n",
    "    print(\"Smart Agent PASSED :) Average score = \", score_avg)\n",
    "else:\n",
    "    print(\"Smart Agent FAILED :( Average score = \", score_avg)"
   ]
  },
  {
   "cell_type": "code",
   "execution_count": null,
   "metadata": {},
   "outputs": [],
   "source": [
    "env.close()"
   ]
  },
  {
   "cell_type": "code",
   "execution_count": null,
   "metadata": {},
   "outputs": [],
   "source": []
  }
 ],
 "metadata": {
  "kernelspec": {
   "display_name": "Python 3",
   "language": "python",
   "name": "python3"
  },
  "language_info": {
   "codemirror_mode": {
    "name": "ipython",
    "version": 3
   },
   "file_extension": ".py",
   "mimetype": "text/x-python",
   "name": "python",
   "nbconvert_exporter": "python",
   "pygments_lexer": "ipython3",
   "version": "3.6.13"
  }
 },
 "nbformat": 4,
 "nbformat_minor": 2
}
